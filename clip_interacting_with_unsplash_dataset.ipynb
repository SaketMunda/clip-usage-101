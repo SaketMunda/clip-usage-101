{
  "nbformat": 4,
  "nbformat_minor": 0,
  "metadata": {
    "colab": {
      "provenance": [],
      "authorship_tag": "ABX9TyMeraVK9M5h+NYf57uXHbxF",
      "include_colab_link": true
    },
    "kernelspec": {
      "name": "python3",
      "display_name": "Python 3"
    },
    "language_info": {
      "name": "python"
    }
  },
  "cells": [
    {
      "cell_type": "markdown",
      "metadata": {
        "id": "view-in-github",
        "colab_type": "text"
      },
      "source": [
        "<a href=\"https://colab.research.google.com/github/SaketMunda/clip-usage-101/blob/master/clip_interacting_with_unsplash_dataset.ipynb\" target=\"_parent\"><img src=\"https://colab.research.google.com/assets/colab-badge.svg\" alt=\"Open In Colab\"/></a>"
      ]
    },
    {
      "cell_type": "markdown",
      "source": [
        "# CLIP Model train on Unsplash Dataset\n",
        "\n",
        "This colab illustrates CLIP Neural Network model trained on [Unplash](https://unsplash.com/data) dataset.\n",
        "\n",
        "Using examples from [GITHUB REPO](https://github.com/haltakov/natural-language-image-search)"
      ],
      "metadata": {
        "id": "cATTC5vYZV4V"
      }
    }
  ]
}